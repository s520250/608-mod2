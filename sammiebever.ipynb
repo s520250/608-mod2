{
 "cells": [
  {
   "cell_type": "markdown",
   "id": "a78f484d-c6ea-490b-b17b-d339ea411ea9",
   "metadata": {},
   "source": [
    "My name is Sammie Bever. This is my Module 2 Project."
   ]
  },
  {
   "cell_type": "markdown",
   "id": "ebe2b3eb-8be7-4298-be91-a8d3af9f2578",
   "metadata": {},
   "source": [
    "Section 3.3 Pseudocode"
   ]
  },
  {
   "cell_type": "markdown",
   "id": "10878a6a-8ff2-4483-a2d7-52f1f803d9c9",
   "metadata": {},
   "source": [
    "Prompt the user to enter the first integer\n",
    "Input the first integer\n",
    "\n",
    "Prompt the user to enter the second integer\n",
    "Input the second integer\n",
    "\n",
    "Add first integer and second integer, store their sum\n",
    "Display the numbers and their sum"
   ]
  },
  {
   "cell_type": "code",
   "execution_count": 1,
   "id": "638434b9-068a-418f-b534-341804e8bcbe",
   "metadata": {},
   "outputs": [
    {
     "name": "stdin",
     "output_type": "stream",
     "text": [
      "Enter first integer:  10\n"
     ]
    }
   ],
   "source": [
    "number1 = int(input('Enter first integer: '))"
   ]
  },
  {
   "cell_type": "code",
   "execution_count": 2,
   "id": "d9d4bc63-0036-4505-95b4-50642817c5f5",
   "metadata": {},
   "outputs": [
    {
     "name": "stdin",
     "output_type": "stream",
     "text": [
      "Enter second integer:  5\n"
     ]
    }
   ],
   "source": [
    "number2 = int(input('Enter second integer: '))"
   ]
  },
  {
   "cell_type": "code",
   "execution_count": 3,
   "id": "45190603-9976-4e42-9963-73084ba46e52",
   "metadata": {},
   "outputs": [],
   "source": [
    "total = number1 + number2"
   ]
  },
  {
   "cell_type": "code",
   "execution_count": 4,
   "id": "9e1d2869-60ae-4b8b-976a-44772c007f3d",
   "metadata": {},
   "outputs": [
    {
     "name": "stdout",
     "output_type": "stream",
     "text": [
      "The sum of 10 and 5 is 15\n"
     ]
    }
   ],
   "source": [
    "print('The sum of', number1, 'and', number2, 'is', total)"
   ]
  },
  {
   "cell_type": "markdown",
   "id": "192df6d6-fa6a-46de-b53a-ab3c6b55ad2a",
   "metadata": {},
   "source": [
    "Section 3.5 if Statement"
   ]
  },
  {
   "cell_type": "code",
   "execution_count": 5,
   "id": "5b9ff5ef-2e68-4d59-b006-cdf61d6025b9",
   "metadata": {},
   "outputs": [],
   "source": [
    "grade = 85"
   ]
  },
  {
   "cell_type": "code",
   "execution_count": 6,
   "id": "bbabcb09-e60e-40e3-8538-08673d0f0426",
   "metadata": {},
   "outputs": [
    {
     "name": "stdout",
     "output_type": "stream",
     "text": [
      "Passed\n",
      "Good job!\n"
     ]
    }
   ],
   "source": [
    "if grade >= 60:\n",
    "    print('Passed')\n",
    "    print('Good job!')"
   ]
  },
  {
   "cell_type": "code",
   "execution_count": 7,
   "id": "89a84b0d-9d8b-4af0-aa45-841bcddb73dd",
   "metadata": {},
   "outputs": [],
   "source": [
    "grade = 55"
   ]
  },
  {
   "cell_type": "code",
   "execution_count": 8,
   "id": "cee9fdb2-ac65-4e06-b28b-c62a282a33f4",
   "metadata": {
    "tags": []
   },
   "outputs": [],
   "source": [
    "if grade >= 60:\n",
    "    print('Passed')"
   ]
  },
  {
   "cell_type": "markdown",
   "id": "8cf7258f-a079-47e0-9d34-ff1bcf0db99c",
   "metadata": {},
   "source": [
    "Section 3.6 if...else and if...elif...else Statements"
   ]
  },
  {
   "cell_type": "code",
   "execution_count": 9,
   "id": "5131d4a6-8902-4751-a7dd-090047d0cea1",
   "metadata": {},
   "outputs": [],
   "source": [
    "grade = 85"
   ]
  },
  {
   "cell_type": "code",
   "execution_count": 10,
   "id": "cac0a2db-12e0-40bf-8fa9-8e09bea0dbea",
   "metadata": {},
   "outputs": [
    {
     "name": "stdout",
     "output_type": "stream",
     "text": [
      "Passed\n"
     ]
    }
   ],
   "source": [
    "if grade >= 60:\n",
    "    print('Passed')\n",
    "else:\n",
    "    print('Failed')"
   ]
  },
  {
   "cell_type": "code",
   "execution_count": 11,
   "id": "77cf6ce7-f5b1-4a3d-b5dc-1ff49316102c",
   "metadata": {},
   "outputs": [],
   "source": [
    "grade = 57"
   ]
  },
  {
   "cell_type": "code",
   "execution_count": 12,
   "id": "5be04f9a-45d8-4282-8e2f-b7371ca0d5bc",
   "metadata": {},
   "outputs": [
    {
     "name": "stdout",
     "output_type": "stream",
     "text": [
      "Failed\n"
     ]
    }
   ],
   "source": [
    "if grade >= 60:\n",
    "    print('Passed')\n",
    "else:\n",
    "    print('Failed')"
   ]
  },
  {
   "cell_type": "code",
   "execution_count": 13,
   "id": "80c3b4a4-7a06-4b9c-9981-10ae4163276d",
   "metadata": {},
   "outputs": [],
   "source": [
    "grade = 99"
   ]
  },
  {
   "cell_type": "markdown",
   "id": "4e616bf1-499d-4ac5-a87d-49441bd97257",
   "metadata": {},
   "source": [
    "If in ipython -- Enter a new grade, then click the up arrow to go to a previous line of code, then click enter to re-execute."
   ]
  },
  {
   "cell_type": "code",
   "execution_count": 14,
   "id": "fd5decda-a111-4ad5-a234-b7a88b1a9bdb",
   "metadata": {},
   "outputs": [],
   "source": [
    "grade = 77"
   ]
  },
  {
   "cell_type": "code",
   "execution_count": 15,
   "id": "0c5e71cb-da1a-4d37-a609-62755241cd71",
   "metadata": {},
   "outputs": [
    {
     "name": "stdout",
     "output_type": "stream",
     "text": [
      "C\n"
     ]
    }
   ],
   "source": [
    "if grade >= 90:\n",
    "    print('A')\n",
    "elif grade >= 80:\n",
    "    print('B')\n",
    "elif grade >= 70:\n",
    "    print('C')\n",
    "elif grade >= 60:\n",
    "    print('D')\n",
    "else:\n",
    "    print('F')"
   ]
  },
  {
   "cell_type": "markdown",
   "id": "1c6f371e-458b-41a0-932a-224579e90eb0",
   "metadata": {},
   "source": [
    "elif must come before else. Else condition must be last in if...elif...else statement."
   ]
  },
  {
   "cell_type": "code",
   "execution_count": 16,
   "id": "e6cdf601-f2c4-4289-95e7-042893d889e7",
   "metadata": {},
   "outputs": [],
   "source": [
    "grade = 80"
   ]
  },
  {
   "cell_type": "code",
   "execution_count": 17,
   "id": "e550ce99-18ef-4553-9a26-6a42f6e2c4c7",
   "metadata": {},
   "outputs": [
    {
     "name": "stdout",
     "output_type": "stream",
     "text": [
      "B\n"
     ]
    }
   ],
   "source": [
    "if grade >= 90:\n",
    "    print('A')\n",
    "elif grade >= 80:\n",
    "    print('B')\n",
    "else:\n",
    "    print('Not A or B')"
   ]
  },
  {
   "cell_type": "markdown",
   "id": "56fa1f1f-a317-4c9d-bc7b-82a9fa466c4f",
   "metadata": {},
   "source": [
    "Section 3.7 while Statement"
   ]
  },
  {
   "cell_type": "code",
   "execution_count": 18,
   "id": "21c0098d-7b26-4714-b646-9ee04e1402e2",
   "metadata": {},
   "outputs": [],
   "source": [
    "product = 3"
   ]
  },
  {
   "cell_type": "code",
   "execution_count": 19,
   "id": "1c628ab7-d1b1-495a-bd62-a9b3c3b07bdf",
   "metadata": {},
   "outputs": [],
   "source": [
    "while product <= 50:\n",
    "    product = product * 3"
   ]
  },
  {
   "cell_type": "code",
   "execution_count": 20,
   "id": "afab93b8-f8a2-44d6-bbf6-97c1ae200366",
   "metadata": {},
   "outputs": [
    {
     "data": {
      "text/plain": [
       "81"
      ]
     },
     "execution_count": 20,
     "metadata": {},
     "output_type": "execute_result"
    }
   ],
   "source": [
    "product"
   ]
  },
  {
   "cell_type": "code",
   "execution_count": 21,
   "id": "aa91824d-4932-4a87-b9d9-dac89de4dae7",
   "metadata": {},
   "outputs": [],
   "source": [
    "product = 7"
   ]
  },
  {
   "cell_type": "code",
   "execution_count": 22,
   "id": "41b43362-d40e-48ba-b279-bee44d082e73",
   "metadata": {},
   "outputs": [],
   "source": [
    "while product <= 1000:\n",
    "    product = product * 7"
   ]
  },
  {
   "cell_type": "code",
   "execution_count": 23,
   "id": "5c6551bd-f12b-43b1-935d-694e8f7e0e46",
   "metadata": {},
   "outputs": [
    {
     "data": {
      "text/plain": [
       "2401"
      ]
     },
     "execution_count": 23,
     "metadata": {},
     "output_type": "execute_result"
    }
   ],
   "source": [
    "product"
   ]
  },
  {
   "cell_type": "markdown",
   "id": "1b7cbb37-15ac-4844-8346-10843d373d50",
   "metadata": {},
   "source": [
    "Section 3.8 for Statement"
   ]
  },
  {
   "cell_type": "code",
   "execution_count": 24,
   "id": "1822beea-b4fe-46a7-9ddc-751e17398888",
   "metadata": {},
   "outputs": [
    {
     "name": "stdout",
     "output_type": "stream",
     "text": [
      "P r o g r a m m i n g "
     ]
    }
   ],
   "source": [
    "for character in 'Programming':\n",
    "    print(character, end=' ')"
   ]
  },
  {
   "cell_type": "code",
   "execution_count": 25,
   "id": "a6150569-751e-4ed8-9230-f3d3dabf157f",
   "metadata": {},
   "outputs": [
    {
     "name": "stdout",
     "output_type": "stream",
     "text": [
      "10 20 30\n"
     ]
    }
   ],
   "source": [
    "print(10, 20, 30)"
   ]
  },
  {
   "cell_type": "code",
   "execution_count": 26,
   "id": "47a78fdd-6e40-422d-afd9-01e87e25cd8e",
   "metadata": {},
   "outputs": [
    {
     "name": "stdout",
     "output_type": "stream",
     "text": [
      "10, 20, 30\n"
     ]
    }
   ],
   "source": [
    "print(10, 20, 30, sep=', ')"
   ]
  },
  {
   "cell_type": "code",
   "execution_count": 27,
   "id": "13237dd7-c79b-4e33-8d1e-d421476863a3",
   "metadata": {},
   "outputs": [
    {
     "name": "stdout",
     "output_type": "stream",
     "text": [
      "102030\n"
     ]
    }
   ],
   "source": [
    "print(10, 20, 30, sep='')"
   ]
  },
  {
   "cell_type": "markdown",
   "id": "1f25e4ea-d2d6-4a05-a825-e784ca4616b1",
   "metadata": {},
   "source": [
    "Section 3.8.1 Iterables, Lists, and Iterators"
   ]
  },
  {
   "cell_type": "code",
   "execution_count": 28,
   "id": "94ca213e-5b24-440d-974f-8cbe5603ce09",
   "metadata": {},
   "outputs": [],
   "source": [
    "total = 0"
   ]
  },
  {
   "cell_type": "code",
   "execution_count": 29,
   "id": "6545daf8-30b2-4df3-bb25-9345a578d061",
   "metadata": {},
   "outputs": [],
   "source": [
    "for number in [2, -3, 0, 17, 9]:\n",
    "    total = total + number"
   ]
  },
  {
   "cell_type": "code",
   "execution_count": 30,
   "id": "757d004a-ebfb-4ed9-bb4f-ee210ab5dfe7",
   "metadata": {},
   "outputs": [
    {
     "data": {
      "text/plain": [
       "25"
      ]
     },
     "execution_count": 30,
     "metadata": {},
     "output_type": "execute_result"
    }
   ],
   "source": [
    "total"
   ]
  },
  {
   "cell_type": "markdown",
   "id": "f5eb4522-e94b-4d59-9cda-911b2bce87bc",
   "metadata": {},
   "source": [
    "Section 3.8.2 Built-In Range Function"
   ]
  },
  {
   "cell_type": "code",
   "execution_count": 31,
   "id": "49681127-a88b-4b3a-8e14-13f5fe0cc4ce",
   "metadata": {},
   "outputs": [
    {
     "name": "stdout",
     "output_type": "stream",
     "text": [
      "0 1 2 3 4 5 6 7 8 9 "
     ]
    }
   ],
   "source": [
    "for counter in range(10):\n",
    "    print(counter, end=' ')"
   ]
  },
  {
   "cell_type": "markdown",
   "id": "5240fe9d-e0d2-4250-a1cc-d48532336d1e",
   "metadata": {},
   "source": [
    "Range generates a sequence of numbers. It excludes the last number - off-by-one error."
   ]
  },
  {
   "cell_type": "markdown",
   "id": "62e5019e-3ad8-466f-bbc6-c42425172d92",
   "metadata": {},
   "source": [
    "Section 3.9 Augmented Assignments"
   ]
  },
  {
   "cell_type": "code",
   "execution_count": 32,
   "id": "6d490443-e34e-4a5b-b51e-86e43bbdfed0",
   "metadata": {},
   "outputs": [],
   "source": [
    "total = 0"
   ]
  },
  {
   "cell_type": "code",
   "execution_count": 33,
   "id": "25387d8d-f5f4-4797-a548-14ec630fb84f",
   "metadata": {},
   "outputs": [],
   "source": [
    "for number in range(1000001):\n",
    "    total = total + number"
   ]
  },
  {
   "cell_type": "code",
   "execution_count": 34,
   "id": "07a0ff05-9939-42a5-a429-1d64627684da",
   "metadata": {},
   "outputs": [
    {
     "data": {
      "text/plain": [
       "500000500000"
      ]
     },
     "execution_count": 34,
     "metadata": {},
     "output_type": "execute_result"
    }
   ],
   "source": [
    "total"
   ]
  },
  {
   "cell_type": "code",
   "execution_count": 35,
   "id": "ea5d3cea-045a-4d2c-870f-bae74f4a71cf",
   "metadata": {},
   "outputs": [],
   "source": [
    "total = 0"
   ]
  },
  {
   "cell_type": "code",
   "execution_count": 36,
   "id": "721dc1f9-fa09-4aa7-8f6e-ca3e7510cef1",
   "metadata": {},
   "outputs": [],
   "source": [
    "for number in [1, 2, 3, 4, 5]:\n",
    "    total += number"
   ]
  },
  {
   "cell_type": "code",
   "execution_count": 37,
   "id": "bab0ab4e-3b14-4acb-b351-443c2da6c417",
   "metadata": {},
   "outputs": [
    {
     "data": {
      "text/plain": [
       "15"
      ]
     },
     "execution_count": 37,
     "metadata": {},
     "output_type": "execute_result"
    }
   ],
   "source": [
    "total"
   ]
  },
  {
   "cell_type": "code",
   "execution_count": 38,
   "id": "b931eaf0-bc93-4565-8052-03db2e0039a2",
   "metadata": {},
   "outputs": [],
   "source": [
    "x = 12"
   ]
  },
  {
   "cell_type": "code",
   "execution_count": 39,
   "id": "002faacf-7c43-459c-bbe6-52735466f635",
   "metadata": {},
   "outputs": [],
   "source": [
    "x **= 2"
   ]
  },
  {
   "cell_type": "code",
   "execution_count": 40,
   "id": "df2f864a-5dc0-42e7-b396-1a671c7e51ea",
   "metadata": {},
   "outputs": [
    {
     "data": {
      "text/plain": [
       "144"
      ]
     },
     "execution_count": 40,
     "metadata": {},
     "output_type": "execute_result"
    }
   ],
   "source": [
    "x"
   ]
  },
  {
   "cell_type": "markdown",
   "id": "3a6842f3-890f-4acb-b282-6a519f039bb1",
   "metadata": {},
   "source": [
    "Section 3.10.3 Coding the Algorithm in Python"
   ]
  },
  {
   "cell_type": "code",
   "execution_count": 41,
   "id": "1217c7d7-71d7-4e1f-a9b7-77edfb499ad5",
   "metadata": {},
   "outputs": [
    {
     "data": {
      "text/plain": [
       "'Class average program with sequence-controlled repetition.'"
      ]
     },
     "execution_count": 41,
     "metadata": {},
     "output_type": "execute_result"
    }
   ],
   "source": [
    "\"\"\"Class average program with sequence-controlled repetition.\"\"\""
   ]
  },
  {
   "cell_type": "code",
   "execution_count": 42,
   "id": "634ee691-d909-4682-953f-ceef9558f86f",
   "metadata": {},
   "outputs": [],
   "source": [
    "total = 0\n",
    "grade_counter = 0\n",
    "grades = [98, 76, 71, 87, 83, 90, 57, 79, 82, 94]"
   ]
  },
  {
   "cell_type": "code",
   "execution_count": 43,
   "id": "04640c02-a1bd-47e9-be7e-2eb28c36fe7c",
   "metadata": {},
   "outputs": [],
   "source": [
    "for grade in grades:\n",
    "    total += grade\n",
    "    grade_counter += 1"
   ]
  },
  {
   "cell_type": "code",
   "execution_count": 44,
   "id": "90b9848d-ca8c-4e16-92f6-906a48451ea8",
   "metadata": {},
   "outputs": [
    {
     "name": "stdout",
     "output_type": "stream",
     "text": [
      "Class average is 81.7.\n"
     ]
    }
   ],
   "source": [
    "average = total / grade_counter\n",
    "print(f'Class average is {average}.')"
   ]
  },
  {
   "cell_type": "code",
   "execution_count": 45,
   "id": "4aaa8f21-ad48-4ef2-86f5-aa0712e42c4e",
   "metadata": {},
   "outputs": [],
   "source": [
    "number1 = 7"
   ]
  },
  {
   "cell_type": "code",
   "execution_count": 46,
   "id": "dd125fa0-e032-4847-8cc1-e3422e127f43",
   "metadata": {},
   "outputs": [],
   "source": [
    "number2 = 5"
   ]
  },
  {
   "cell_type": "code",
   "execution_count": 47,
   "id": "681ed70b-09f7-4df9-8b05-42ec2e43fa4c",
   "metadata": {},
   "outputs": [
    {
     "name": "stdout",
     "output_type": "stream",
     "text": [
      "7 times 5 is 35\n"
     ]
    }
   ],
   "source": [
    "print(f'{number1} times {number2} is {number1 * number2}')"
   ]
  },
  {
   "cell_type": "markdown",
   "id": "64af1d5d-4723-4e89-8f53-814c842b57f6",
   "metadata": {},
   "source": [
    "Section 3.13 Built-In Function range: A Deeper Look"
   ]
  },
  {
   "cell_type": "code",
   "execution_count": 48,
   "id": "51510410-ccd7-455b-aeff-e702e25c0f76",
   "metadata": {},
   "outputs": [
    {
     "name": "stdout",
     "output_type": "stream",
     "text": [
      "5 6 7 8 9 "
     ]
    }
   ],
   "source": [
    "for number in range(5, 10):\n",
    "    print(number, end=' ')"
   ]
  },
  {
   "cell_type": "markdown",
   "id": "40b967f7-d3e3-4968-93bb-a380c99fd262",
   "metadata": {},
   "source": [
    "Step of 2"
   ]
  },
  {
   "cell_type": "code",
   "execution_count": 49,
   "id": "61d04118-32bc-490f-9fec-8c6813aa12c4",
   "metadata": {},
   "outputs": [
    {
     "name": "stdout",
     "output_type": "stream",
     "text": [
      "0 2 4 6 8 "
     ]
    }
   ],
   "source": [
    "for number in range(0, 10, 2):\n",
    "    print(number, end=' ')"
   ]
  },
  {
   "cell_type": "code",
   "execution_count": 50,
   "id": "57ab4709-eb21-499e-bf6a-dd55c85a0936",
   "metadata": {},
   "outputs": [
    {
     "name": "stdout",
     "output_type": "stream",
     "text": [
      "10 8 6 4 2 "
     ]
    }
   ],
   "source": [
    "for number in range(10, 0, -2):\n",
    "    print(number, end=' ')"
   ]
  },
  {
   "cell_type": "markdown",
   "id": "e1ebd115-7c59-4a2f-a71a-9ebe7e1d65a2",
   "metadata": {},
   "source": [
    "If range is decreasing (ex: 10 to 0), you need a negative step (-2)."
   ]
  },
  {
   "cell_type": "code",
   "execution_count": 51,
   "id": "fc5dced9-1cd7-42e4-b325-2618374ea162",
   "metadata": {},
   "outputs": [
    {
     "name": "stdout",
     "output_type": "stream",
     "text": [
      "10 8 6 4 2 "
     ]
    }
   ],
   "source": [
    "for number in range(10, 0, -2):\n",
    "    print(number, end=' ')"
   ]
  },
  {
   "cell_type": "code",
   "execution_count": 52,
   "id": "95626cbc-05c7-4cb5-a4b6-f11c5430c829",
   "metadata": {},
   "outputs": [
    {
     "name": "stdout",
     "output_type": "stream",
     "text": [
      "99 88 77 66 55 44 33 22 11 0 "
     ]
    }
   ],
   "source": [
    "for number in range(99, -1, -11):\n",
    "    print(number, end=' ')"
   ]
  },
  {
   "cell_type": "code",
   "execution_count": 53,
   "id": "5e73c667-46a2-42e8-ba5c-54dedb7a1506",
   "metadata": {},
   "outputs": [],
   "source": [
    "total = 0"
   ]
  },
  {
   "cell_type": "code",
   "execution_count": 54,
   "id": "1e9b0564-3f40-4852-9f5f-f6278db298d9",
   "metadata": {},
   "outputs": [],
   "source": [
    "for number in range(2, 101, 2):\n",
    "    total += number"
   ]
  },
  {
   "cell_type": "code",
   "execution_count": 55,
   "id": "c90f6cd7-39c2-4c92-86e6-7c75c79c23c6",
   "metadata": {},
   "outputs": [
    {
     "data": {
      "text/plain": [
       "2550"
      ]
     },
     "execution_count": 55,
     "metadata": {},
     "output_type": "execute_result"
    }
   ],
   "source": [
    "total"
   ]
  },
  {
   "cell_type": "markdown",
   "id": "44ea84fd-1ab2-4ba7-9bac-fca3760f55d4",
   "metadata": {},
   "source": [
    "Section 3.15 break and continue Statements"
   ]
  },
  {
   "cell_type": "code",
   "execution_count": 56,
   "id": "d68a1107-bbd8-43e2-b688-bc058bc72db4",
   "metadata": {},
   "outputs": [
    {
     "name": "stdout",
     "output_type": "stream",
     "text": [
      "0 1 2 3 4 5 6 7 8 9 "
     ]
    }
   ],
   "source": [
    "for number in range(100):\n",
    "    if number == 10:\n",
    "        break\n",
    "    print(number, end=' ')"
   ]
  },
  {
   "cell_type": "code",
   "execution_count": 57,
   "id": "112fc6ce-84da-40ae-bf34-476bea21763f",
   "metadata": {},
   "outputs": [
    {
     "name": "stdout",
     "output_type": "stream",
     "text": [
      "0 1 2 3 4 6 7 8 9 "
     ]
    }
   ],
   "source": [
    "for number in range(10):\n",
    "    if number == 5:\n",
    "        continue\n",
    "    print(number, end=' ')"
   ]
  },
  {
   "cell_type": "markdown",
   "id": "3fb82430-8478-4b85-8bc9-98f9ebb6b270",
   "metadata": {},
   "source": [
    "Section 3.16 Boolean Operators and, or,and not"
   ]
  },
  {
   "cell_type": "code",
   "execution_count": 58,
   "id": "2c10899c-0e20-4e4f-8663-f55f4678245e",
   "metadata": {},
   "outputs": [],
   "source": [
    "gender = 'Female'"
   ]
  },
  {
   "cell_type": "code",
   "execution_count": 59,
   "id": "38032ed9-84af-4e06-a8cf-23397bc7aedf",
   "metadata": {},
   "outputs": [],
   "source": [
    "age = 70"
   ]
  },
  {
   "cell_type": "code",
   "execution_count": 60,
   "id": "bd2c4357-2f98-4eae-adc4-2484c3fb1139",
   "metadata": {},
   "outputs": [
    {
     "name": "stdout",
     "output_type": "stream",
     "text": [
      "Senior female\n"
     ]
    }
   ],
   "source": [
    "if gender == 'Female' and age >= 65:\n",
    "    print('Senior female')"
   ]
  },
  {
   "cell_type": "code",
   "execution_count": 61,
   "id": "3936a14a-78cb-44e2-af54-fc8512f9e4a5",
   "metadata": {},
   "outputs": [],
   "source": [
    "semester_average = 83"
   ]
  },
  {
   "cell_type": "code",
   "execution_count": 62,
   "id": "e1e48034-9cab-4a57-ac3b-e77c4a24f599",
   "metadata": {},
   "outputs": [],
   "source": [
    "final_exam = 95"
   ]
  },
  {
   "cell_type": "code",
   "execution_count": 63,
   "id": "3bc5a3aa-6399-4a5e-9537-b4f7766e18a4",
   "metadata": {},
   "outputs": [
    {
     "name": "stdout",
     "output_type": "stream",
     "text": [
      "Student gets an A\n"
     ]
    }
   ],
   "source": [
    "if semester_average >= 90 or final_exam >= 90:\n",
    "    print('Student gets an A')"
   ]
  },
  {
   "cell_type": "code",
   "execution_count": 64,
   "id": "a0f17ecb-b64c-4b0f-a977-6b0eefda8191",
   "metadata": {},
   "outputs": [],
   "source": [
    "grade = 87"
   ]
  },
  {
   "cell_type": "code",
   "execution_count": 65,
   "id": "291d6259-41a9-4f79-88bf-bd156acdff1f",
   "metadata": {},
   "outputs": [
    {
     "name": "stdout",
     "output_type": "stream",
     "text": [
      "The next grade is 87\n"
     ]
    }
   ],
   "source": [
    "if not grade == -1:\n",
    "    print('The next grade is', grade)"
   ]
  },
  {
   "cell_type": "code",
   "execution_count": 66,
   "id": "1fbae723-ce7f-4e0d-a471-7676b6c3417a",
   "metadata": {},
   "outputs": [
    {
     "name": "stdout",
     "output_type": "stream",
     "text": [
      "The next grade is 87\n"
     ]
    }
   ],
   "source": [
    "if grade != -1:\n",
    "    print('The next grade is', grade)"
   ]
  },
  {
   "cell_type": "code",
   "execution_count": 67,
   "id": "812967f3-1b33-4603-b55c-2ef6d4232060",
   "metadata": {},
   "outputs": [],
   "source": [
    "i = 1"
   ]
  },
  {
   "cell_type": "code",
   "execution_count": 68,
   "id": "f4bdeeb8-0bea-4a35-9ec4-b0b16a0d9942",
   "metadata": {},
   "outputs": [],
   "source": [
    "j = 2"
   ]
  },
  {
   "cell_type": "code",
   "execution_count": 69,
   "id": "ce5c2de1-711c-4f94-8f8c-8ba0aec548de",
   "metadata": {},
   "outputs": [],
   "source": [
    "k = 3"
   ]
  },
  {
   "cell_type": "code",
   "execution_count": 70,
   "id": "1c52523d-8163-4431-aae1-1d8ec27a1c55",
   "metadata": {},
   "outputs": [],
   "source": [
    "m = 2"
   ]
  },
  {
   "cell_type": "code",
   "execution_count": 71,
   "id": "1b0d3499-13b5-474e-8562-61c153a4261c",
   "metadata": {},
   "outputs": [
    {
     "data": {
      "text/plain": [
       "True"
      ]
     },
     "execution_count": 71,
     "metadata": {},
     "output_type": "execute_result"
    }
   ],
   "source": [
    "(i >= 1) and (j < 4)"
   ]
  },
  {
   "cell_type": "code",
   "execution_count": 72,
   "id": "3ee681d8-89b5-46b2-b333-79ea1e9242be",
   "metadata": {},
   "outputs": [
    {
     "data": {
      "text/plain": [
       "False"
      ]
     },
     "execution_count": 72,
     "metadata": {},
     "output_type": "execute_result"
    }
   ],
   "source": [
    "(m <= 99) and (k < m)"
   ]
  },
  {
   "cell_type": "code",
   "execution_count": 73,
   "id": "879528e3-05b8-41bc-8b53-1e94ae38ce3c",
   "metadata": {},
   "outputs": [
    {
     "data": {
      "text/plain": [
       "True"
      ]
     },
     "execution_count": 73,
     "metadata": {},
     "output_type": "execute_result"
    }
   ],
   "source": [
    "(j >= i) or (k == m)"
   ]
  },
  {
   "cell_type": "code",
   "execution_count": 74,
   "id": "32903558-54ce-4195-a5bd-cc4f992a7fe3",
   "metadata": {},
   "outputs": [
    {
     "data": {
      "text/plain": [
       "False"
      ]
     },
     "execution_count": 74,
     "metadata": {},
     "output_type": "execute_result"
    }
   ],
   "source": [
    "(k + m < j) or (3 - j >= k)"
   ]
  },
  {
   "cell_type": "code",
   "execution_count": 75,
   "id": "b6c8d71c-641b-4032-83c2-fe1302b727cc",
   "metadata": {},
   "outputs": [
    {
     "data": {
      "text/plain": [
       "False"
      ]
     },
     "execution_count": 75,
     "metadata": {},
     "output_type": "execute_result"
    }
   ],
   "source": [
    "not (k > m)"
   ]
  },
  {
   "cell_type": "markdown",
   "id": "42809438-dac4-4ab7-a50b-c6a3ea8ec553",
   "metadata": {},
   "source": [
    "Section 3.17 Intro to Data Science: Measures of Central Tendency -- Mean, Median, and Mode"
   ]
  },
  {
   "cell_type": "code",
   "execution_count": 76,
   "id": "c95755d2-fae3-419a-b0db-7d443198ca0f",
   "metadata": {},
   "outputs": [],
   "source": [
    "grades = [85, 93, 45, 89, 85]"
   ]
  },
  {
   "cell_type": "code",
   "execution_count": 77,
   "id": "7393b46c-7482-4fab-9afd-5fe87138bd7b",
   "metadata": {},
   "outputs": [
    {
     "data": {
      "text/plain": [
       "79.4"
      ]
     },
     "execution_count": 77,
     "metadata": {},
     "output_type": "execute_result"
    }
   ],
   "source": [
    "sum(grades) / len(grades)"
   ]
  },
  {
   "cell_type": "code",
   "execution_count": 78,
   "id": "d832fddd-7cab-48f1-b7b5-2cacf8559405",
   "metadata": {},
   "outputs": [],
   "source": [
    "import statistics"
   ]
  },
  {
   "cell_type": "code",
   "execution_count": 79,
   "id": "c3c33b18-d2c0-4d13-bfdf-3de43b484800",
   "metadata": {},
   "outputs": [
    {
     "data": {
      "text/plain": [
       "79.4"
      ]
     },
     "execution_count": 79,
     "metadata": {},
     "output_type": "execute_result"
    }
   ],
   "source": [
    "statistics.mean(grades)"
   ]
  },
  {
   "cell_type": "code",
   "execution_count": 80,
   "id": "18441bdb-4097-433f-b423-3fc02c34fd86",
   "metadata": {},
   "outputs": [
    {
     "data": {
      "text/plain": [
       "85"
      ]
     },
     "execution_count": 80,
     "metadata": {},
     "output_type": "execute_result"
    }
   ],
   "source": [
    "statistics.median(grades)"
   ]
  },
  {
   "cell_type": "code",
   "execution_count": 81,
   "id": "5bb4909e-8f4e-452d-b2d0-45343ce319e1",
   "metadata": {},
   "outputs": [
    {
     "data": {
      "text/plain": [
       "85"
      ]
     },
     "execution_count": 81,
     "metadata": {},
     "output_type": "execute_result"
    }
   ],
   "source": [
    "statistics.mode(grades)"
   ]
  },
  {
   "cell_type": "code",
   "execution_count": 82,
   "id": "eaf31b08-7537-4476-a692-b7c8bc75fa83",
   "metadata": {},
   "outputs": [
    {
     "data": {
      "text/plain": [
       "[45, 85, 85, 89, 93]"
      ]
     },
     "execution_count": 82,
     "metadata": {},
     "output_type": "execute_result"
    }
   ],
   "source": [
    "sorted(grades)"
   ]
  },
  {
   "cell_type": "markdown",
   "id": "75381979-1518-4c5f-8d8c-3ed286e28ced",
   "metadata": {},
   "source": [
    "Calculate Measures of Central Tendency - Native Python"
   ]
  },
  {
   "cell_type": "code",
   "execution_count": 83,
   "id": "fd90d011-3338-4cf7-84bf-18d8d77ab955",
   "metadata": {},
   "outputs": [],
   "source": [
    "values = [47, 95, 88, 73, 88, 84]"
   ]
  },
  {
   "cell_type": "code",
   "execution_count": 84,
   "id": "299a63e8-3046-409a-bd2c-986de91fe750",
   "metadata": {},
   "outputs": [
    {
     "name": "stdout",
     "output_type": "stream",
     "text": [
      "Count is 6\n"
     ]
    }
   ],
   "source": [
    "print('Count is', len(values))"
   ]
  },
  {
   "cell_type": "code",
   "execution_count": 85,
   "id": "3dfd5a86-a31b-47d5-862e-c2809ebde718",
   "metadata": {},
   "outputs": [
    {
     "name": "stdout",
     "output_type": "stream",
     "text": [
      "Sum is 475\n"
     ]
    }
   ],
   "source": [
    "print('Sum is', sum(values))"
   ]
  },
  {
   "cell_type": "code",
   "execution_count": 86,
   "id": "79998c85-f1f1-412b-9351-a1796a1c8de0",
   "metadata": {},
   "outputs": [
    {
     "name": "stdout",
     "output_type": "stream",
     "text": [
      "Mean is 79.16666666666667\n"
     ]
    }
   ],
   "source": [
    "print('Mean is', sum(values) / len(values))"
   ]
  },
  {
   "cell_type": "markdown",
   "id": "7f9bd473-a94c-49f2-8498-8f58aac45486",
   "metadata": {},
   "source": [
    "Calculate Measures of Central Tendency - with Statistic Module"
   ]
  },
  {
   "cell_type": "code",
   "execution_count": 87,
   "id": "64d3e77b-2880-421a-9160-107488e0dcf7",
   "metadata": {},
   "outputs": [
    {
     "data": {
      "text/plain": [
       "79.16666666666667"
      ]
     },
     "execution_count": 87,
     "metadata": {},
     "output_type": "execute_result"
    }
   ],
   "source": [
    "statistics.mean(values)"
   ]
  },
  {
   "cell_type": "code",
   "execution_count": 88,
   "id": "b2bec591-2e9e-49a1-902e-9d30b642b050",
   "metadata": {},
   "outputs": [
    {
     "data": {
      "text/plain": [
       "86.0"
      ]
     },
     "execution_count": 88,
     "metadata": {},
     "output_type": "execute_result"
    }
   ],
   "source": [
    "statistics.median(values)"
   ]
  },
  {
   "cell_type": "code",
   "execution_count": 89,
   "id": "426b96c8-fd6b-4a43-b882-7ec334d73259",
   "metadata": {},
   "outputs": [
    {
     "data": {
      "text/plain": [
       "88"
      ]
     },
     "execution_count": 89,
     "metadata": {},
     "output_type": "execute_result"
    }
   ],
   "source": [
    "statistics.mode(values)"
   ]
  },
  {
   "cell_type": "markdown",
   "id": "9c54a568-c39a-4580-95b0-f41da0d9f10a",
   "metadata": {},
   "source": [
    "Custom Central Tendency - Sammie Bever"
   ]
  },
  {
   "cell_type": "code",
   "execution_count": 90,
   "id": "3e50c914-9cea-453b-8d7c-f3f810d4b56f",
   "metadata": {},
   "outputs": [],
   "source": [
    "custom_values = [99, 57, 36, 88, 68, 75, 57, 43]"
   ]
  },
  {
   "cell_type": "code",
   "execution_count": 91,
   "id": "d2de4d8a-9e6c-4860-9cfe-54b4fcb22ef7",
   "metadata": {},
   "outputs": [
    {
     "name": "stdout",
     "output_type": "stream",
     "text": [
      "Count is 8\n"
     ]
    }
   ],
   "source": [
    "print('Count is', len(custom_values))"
   ]
  },
  {
   "cell_type": "code",
   "execution_count": 92,
   "id": "bd457ddc-3838-4d26-86f3-e398a2d02d79",
   "metadata": {},
   "outputs": [
    {
     "name": "stdout",
     "output_type": "stream",
     "text": [
      "Sum is 523\n"
     ]
    }
   ],
   "source": [
    "print('Sum is', sum(custom_values))"
   ]
  },
  {
   "cell_type": "code",
   "execution_count": 93,
   "id": "b8c4f506-30c6-4768-b0ee-897400399b5d",
   "metadata": {},
   "outputs": [
    {
     "name": "stdout",
     "output_type": "stream",
     "text": [
      "Mean is 65.375\n"
     ]
    }
   ],
   "source": [
    "print('Mean is', sum(custom_values) / len(custom_values))"
   ]
  },
  {
   "cell_type": "code",
   "execution_count": 94,
   "id": "ba0ba803-6413-4480-bf68-16831811c5ea",
   "metadata": {},
   "outputs": [
    {
     "data": {
      "text/plain": [
       "65.375"
      ]
     },
     "execution_count": 94,
     "metadata": {},
     "output_type": "execute_result"
    }
   ],
   "source": [
    "statistics.mean(custom_values)"
   ]
  },
  {
   "cell_type": "code",
   "execution_count": 95,
   "id": "15c6d615-c077-420c-92da-bc698d34ac62",
   "metadata": {},
   "outputs": [
    {
     "data": {
      "text/plain": [
       "62.5"
      ]
     },
     "execution_count": 95,
     "metadata": {},
     "output_type": "execute_result"
    }
   ],
   "source": [
    "statistics.median(custom_values)"
   ]
  },
  {
   "cell_type": "code",
   "execution_count": 97,
   "id": "47e41d7a-ec6d-4838-921b-c0db54d83539",
   "metadata": {},
   "outputs": [
    {
     "data": {
      "text/plain": [
       "57"
      ]
     },
     "execution_count": 97,
     "metadata": {},
     "output_type": "execute_result"
    }
   ],
   "source": [
    "statistics.mode(custom_values)"
   ]
  }
 ],
 "metadata": {
  "kernelspec": {
   "display_name": "Python 3 (ipykernel)",
   "language": "python",
   "name": "python3"
  },
  "language_info": {
   "codemirror_mode": {
    "name": "ipython",
    "version": 3
   },
   "file_extension": ".py",
   "mimetype": "text/x-python",
   "name": "python",
   "nbconvert_exporter": "python",
   "pygments_lexer": "ipython3",
   "version": "3.9.7"
  }
 },
 "nbformat": 4,
 "nbformat_minor": 5
}
