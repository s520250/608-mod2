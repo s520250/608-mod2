{
 "cells": [
  {
   "cell_type": "markdown",
   "id": "ffd6c4bb-a70e-488e-82ed-dcdc9f8f2437",
   "metadata": {},
   "source": [
    "Sammie Bever"
   ]
  },
  {
   "cell_type": "code",
   "execution_count": 8,
   "id": "0500d1ae-ba71-4265-aa23-b19cd858d184",
   "metadata": {},
   "outputs": [],
   "source": [
    "TechHours = [59, 2, 56, 8, 45, 42, 17, 16, 28, 16, 54, 53, 16, 27, 19, 16, 43, 7, 16, 48, 60, 40, 27, 44, 38, 30, 54, 44, 27, 18, 2, 57, 60, 4, \\\n",
    "             35, 54, 14, 56, 22, 27, 59, 15, 6, 10, 19, 14, 7, 33, 56, 14, 26, 23, 28, 10, 46, 58, 53, 26, 43, 41, 19, 11, 8, 12, 43, 36, 46, 14, \\\n",
    "             47, 24, 1, 57, 60, 11, 12, 8, 55, 49, 9, 54, 33, 28, 39, 15, 45, 7, 60, 30, 6, 7, 33, 2, 44, 48, 56, 33, 3, 14, 16, 25, 14, 46, 38, \\\n",
    "             15, 15, 40, 11, 27, 33, 11, 1, 46, 45, 18, 50, 15, 41, 12, 33, 1, 35, 49, 4, 45, 16, 57, 4, 45, 52, 29, 56, 16, 15, 16, 38, 6, 22, \\\n",
    "             31, 40, 48, 33, 19, 14, 38, 25, 7, 57, 9, 4, 13]"
   ]
  },
  {
   "cell_type": "code",
   "execution_count": 9,
   "id": "db08401e-6e83-4725-accd-109245f56477",
   "metadata": {},
   "outputs": [],
   "source": [
    "import statistics"
   ]
  },
  {
   "cell_type": "code",
   "execution_count": 10,
   "id": "47a52089-9696-4993-95fa-0e7343d51ee5",
   "metadata": {},
   "outputs": [
    {
     "data": {
      "text/plain": [
       "150"
      ]
     },
     "execution_count": 10,
     "metadata": {},
     "output_type": "execute_result"
    }
   ],
   "source": [
    "len(TechHours)"
   ]
  },
  {
   "cell_type": "code",
   "execution_count": 11,
   "id": "176c1fe8-cb69-45cd-8f03-0618c0a56f88",
   "metadata": {},
   "outputs": [
    {
     "data": {
      "text/plain": [
       "4363"
      ]
     },
     "execution_count": 11,
     "metadata": {},
     "output_type": "execute_result"
    }
   ],
   "source": [
    "sum(TechHours)"
   ]
  },
  {
   "cell_type": "code",
   "execution_count": 12,
   "id": "a5aea6bf-987d-493e-81b7-8dbfbb21194d",
   "metadata": {},
   "outputs": [
    {
     "data": {
      "text/plain": [
       "29.086666666666666"
      ]
     },
     "execution_count": 12,
     "metadata": {},
     "output_type": "execute_result"
    }
   ],
   "source": [
    "statistics.mean(TechHours)"
   ]
  },
  {
   "cell_type": "code",
   "execution_count": 13,
   "id": "4dcad774-266e-48ae-b8cf-862b4c368ce9",
   "metadata": {},
   "outputs": [
    {
     "data": {
      "text/plain": [
       "27.0"
      ]
     },
     "execution_count": 13,
     "metadata": {},
     "output_type": "execute_result"
    }
   ],
   "source": [
    "statistics.median(TechHours)"
   ]
  },
  {
   "cell_type": "code",
   "execution_count": 14,
   "id": "e473e627-aaa2-44d3-9d14-bb6c12fefd72",
   "metadata": {},
   "outputs": [
    {
     "data": {
      "text/plain": [
       "16"
      ]
     },
     "execution_count": 14,
     "metadata": {},
     "output_type": "execute_result"
    }
   ],
   "source": [
    "statistics.mode(TechHours)"
   ]
  }
 ],
 "metadata": {
  "kernelspec": {
   "display_name": "Python 3 (ipykernel)",
   "language": "python",
   "name": "python3"
  },
  "language_info": {
   "codemirror_mode": {
    "name": "ipython",
    "version": 3
   },
   "file_extension": ".py",
   "mimetype": "text/x-python",
   "name": "python",
   "nbconvert_exporter": "python",
   "pygments_lexer": "ipython3",
   "version": "3.9.7"
  }
 },
 "nbformat": 4,
 "nbformat_minor": 5
}
